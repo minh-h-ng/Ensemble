{
 "cells": [
  {
   "cell_type": "markdown",
   "metadata": {},
   "source": [
    "# Plot EDGAR dataset\n",
    "The dataset is from timestamp **2016-10-01 00:00:00** to **2016-12-31 23:00:00**  \n",
    "**requests** represents the maximum number of requests received by the webserver within the given hour, with a resolution of 1s"
   ]
  },
  {
   "cell_type": "code",
   "execution_count": null,
   "metadata": {},
   "outputs": [],
   "source": [
    "import pandas as pd\n",
    "import matplotlib.pyplot as plt\n",
    "import numpy as np\n",
    "%matplotlib inline"
   ]
  },
  {
   "cell_type": "code",
   "execution_count": null,
   "metadata": {},
   "outputs": [],
   "source": [
    "def parse_datetime(x):\n",
    "    # return pandas datetime\n",
    "    return pd.to_datetime(x, format='%Y-%m-%d %H:%M:%S')\n",
    "\n",
    "series = pd.read_csv(\n",
    "    './processed/edgar.csv', # filename\n",
    "    header=None, # contains no header\n",
    "    index_col=0, # set datetime column as index\n",
    "    names=['datetime', 'requests'], # name the columns\n",
    "    converters={'datetime': parse_datetime}, # custom datetime parser\n",
    "    squeeze=True, # convert to Series\n",
    "    dtype={'requests': np.float64} # https://git.io/vdbyk\n",
    ")"
   ]
  },
  {
   "cell_type": "code",
   "execution_count": null,
   "metadata": {},
   "outputs": [],
   "source": [
    "print('--- HEAD ---')\n",
    "print(series.head())\n",
    "print('--- TAIL ---')\n",
    "print(series.tail())\n",
    "\n",
    "series.plot();"
   ]
  },
  {
   "cell_type": "markdown",
   "metadata": {},
   "source": [
    "# Naive forecast\n",
    "The last observed value will occur in the next time interval"
   ]
  },
  {
   "cell_type": "code",
   "execution_count": null,
   "metadata": {},
   "outputs": [],
   "source": [
    "print(series[series.last_valid_index()])"
   ]
  },
  {
   "cell_type": "markdown",
   "metadata": {},
   "source": [
    "# Autoregressive (AR)\n",
    "It is a regression of the variable against itself.  \n",
    "The model is represented as *AR(p)*, where the *AR* process depends on *p* past observations.  \n",
    "\n",
    "We will be computing *AR(1)*, which is equivalent to *ARIMA(1,0,0)* and *ARMA(1,0)*."
   ]
  },
  {
   "cell_type": "code",
   "execution_count": null,
   "metadata": {},
   "outputs": [],
   "source": [
    "from statsmodels.tsa.arima_model import ARMA\n",
    "\n",
    "ar = ARMA(series, order=(1,0)) # (p,q) = (1,0)\n",
    "ar_fit = ar.fit()\n",
    "\n",
    "print(ar_fit.forecast(48)[0])\n",
    "ar_fit.plot_predict(start=series.tail(100).index[0],\n",
    "                    end=series.last_valid_index() + pd.Timedelta(hours=48),\n",
    "                    alpha=0.90);"
   ]
  },
  {
   "cell_type": "markdown",
   "metadata": {},
   "source": [
    "# Autoregressive Moving Averages (ARMA)\n",
    "The model is represented as *ARMA(p,q)*,  \n",
    "where the *AR* process depends on *p* past observations and *MA* process depends on *q* past observations.  \n",
    "\n",
    "We will be computing *ARMA(1,1)*, which is equivalent to *ARIMA(1,0,1)*."
   ]
  },
  {
   "cell_type": "code",
   "execution_count": null,
   "metadata": {},
   "outputs": [],
   "source": [
    "from statsmodels.tsa.arima_model import ARMA\n",
    "\n",
    "arma = ARMA(series, order=(1,1)) # (p,q) = (1,1)\n",
    "arma_fit = arma.fit()\n",
    "\n",
    "print(arma_fit.forecast(48)[0])\n",
    "arma_fit.plot_predict(start=series.tail(100).index[0],\n",
    "                      end=series.last_valid_index() + pd.Timedelta(hours=48),\n",
    "                      alpha=0.90);"
   ]
  },
  {
   "cell_type": "markdown",
   "metadata": {},
   "source": [
    "# Autoregressive Integrated Moving Averages (ARIMA)\n",
    "The model is represented as *ARIMA(p,d,q)*,  \n",
    "where the *AR* process depends on *p* past observations, *MA* process depends on *q* past observations,  \n",
    "and *d* represents the order of integration (to make time-series stationary).  \n",
    "\n",
    "We will be computing R's equivalent of *auto.ARIMA()*."
   ]
  },
  {
   "cell_type": "markdown",
   "metadata": {},
   "source": [
    "### Check for stationarity\n",
    "- **p-value** should be < 0.05\n",
    "- **Test Statistic** should be < **Critical Value (5%)**\n",
    "\n",
    "[Read More](https://datascience.ibm.com/exchange/public/entry/view/815137c868b916821dec777bdc23013c)"
   ]
  },
  {
   "cell_type": "code",
   "execution_count": null,
   "metadata": {},
   "outputs": [],
   "source": [
    "from statsmodels.tsa.stattools import adfuller\n",
    "\n",
    "# Rolling statistics\n",
    "rolmean = series.rolling(window=52, center=False).mean()\n",
    "rolstd = series.rolling(window=52, center=False).std()\n",
    "\n",
    "orig = plt.plot(series, color='blue', label='Original')\n",
    "mean = plt.plot(rolmean, color='red', label='Rolling Mean')\n",
    "std = plt.plot(rolstd, color='black', label = 'Rolling Std')\n",
    "plt.legend(loc='best')\n",
    "plt.title('Rolling Mean & Standard Deviation')\n",
    "plt.show(block=False)\n",
    "\n",
    "# Dickey-Fuller test\n",
    "dftest = adfuller(series, autolag='AIC')\n",
    "dfoutput = pd.Series(dftest[0:4],\n",
    "                     index=['Test Statistic', 'p-value', '#Lags Used', 'Number of Observations Used'])\n",
    "for key, value in dftest[4].items():\n",
    "    dfoutput['Critical Value (%s)' % key] = value\n",
    "print(dfoutput)"
   ]
  },
  {
   "cell_type": "code",
   "execution_count": null,
   "metadata": {},
   "outputs": [],
   "source": [
    "from statsmodels.tsa.arima_model import ARIMA\n",
    "from statsmodels.tsa.stattools import arma_order_select_ic\n",
    "import warnings\n",
    "\n",
    "# Select p and q\n",
    "with warnings.catch_warnings():\n",
    "    warnings.filterwarnings('ignore')\n",
    "    arma_params = arma_order_select_ic(series, fit_kw=dict(method='css'))\n",
    "\n",
    "p = arma_params.bic_min_order[0]\n",
    "q = arma_params.bic_min_order[1]\n",
    "\n",
    "arima = ARIMA(series, order=(p,0,q))\n",
    "arima_fit = arima.fit()\n",
    "\n",
    "print(arima_fit.forecast(48)[0])\n",
    "arima_fit.plot_predict(start=series.tail(100).index[0],\n",
    "                       end=series.last_valid_index() + pd.Timedelta(hours=48),\n",
    "                       alpha=0.90);"
   ]
  },
  {
   "cell_type": "markdown",
   "metadata": {},
   "source": [
    "# Forecasting using R"
   ]
  },
  {
   "cell_type": "markdown",
   "metadata": {},
   "source": [
    "## Installing forecast"
   ]
  },
  {
   "cell_type": "code",
   "execution_count": null,
   "metadata": {},
   "outputs": [],
   "source": [
    "import rpy2.robjects.packages as rpackages\n",
    "import warnings\n",
    "\n",
    "# select mirror\n",
    "utils = rpackages.importr('utils')\n",
    "utils.chooseCRANmirror(ind=1)\n",
    "\n",
    "with warnings.catch_warnings():\n",
    "    warnings.filterwarnings('ignore')\n",
    "    utils.install_packages('forecast')"
   ]
  },
  {
   "cell_type": "markdown",
   "metadata": {},
   "source": [
    "## Setup forecast"
   ]
  },
  {
   "cell_type": "code",
   "execution_count": null,
   "metadata": {},
   "outputs": [],
   "source": [
    "import rpy2.robjects as robjects\n",
    "from rpy2.robjects import pandas2ri\n",
    "\n",
    "forecast = rpackages.importr('forecast')\n",
    "ts = robjects.r('ts')\n",
    "\n",
    "pandas2ri.activate()\n",
    "rdata = ts(series.values)"
   ]
  },
  {
   "cell_type": "markdown",
   "metadata": {},
   "source": [
    "## AR (1)"
   ]
  },
  {
   "cell_type": "code",
   "execution_count": null,
   "metadata": {},
   "outputs": [],
   "source": [
    "ar_fit = forecast.Arima(rdata, robjects.FloatVector((1,0,0)))\n",
    "ar_forecast = forecast.forecast(ar_fit, h=24)\n",
    "print(np.asarray(ar_forecast[3]))"
   ]
  },
  {
   "cell_type": "markdown",
   "metadata": {},
   "source": [
    "## ARMA (1,1)"
   ]
  },
  {
   "cell_type": "code",
   "execution_count": null,
   "metadata": {},
   "outputs": [],
   "source": [
    "arma_fit = forecast.Arima(rdata, robjects.FloatVector((1,0,1)))\n",
    "arma_forecast = forecast.forecast(arma_fit, h=24)\n",
    "print(np.asarray(arma_forecast[3]))"
   ]
  },
  {
   "cell_type": "markdown",
   "metadata": {},
   "source": [
    "## ARIMA"
   ]
  },
  {
   "cell_type": "code",
   "execution_count": null,
   "metadata": {},
   "outputs": [],
   "source": [
    "arima_fit = forecast.auto_arima(rdata)\n",
    "arima_forecast = forecast.forecast(arima_fit, h=24)\n",
    "print(np.asarray(arima_forecast[3]))"
   ]
  },
  {
   "cell_type": "markdown",
   "metadata": {},
   "source": [
    "## ETS"
   ]
  },
  {
   "cell_type": "code",
   "execution_count": null,
   "metadata": {},
   "outputs": [],
   "source": [
    "ets_fit = forecast.ets(rdata)\n",
    "ets_forecast = forecast.forecast(ets_fit, h=24)\n",
    "print(np.asarray(ets_forecast[1]))"
   ]
  },
  {
   "cell_type": "code",
   "execution_count": null,
   "metadata": {},
   "outputs": [],
   "source": []
  }
 ],
 "metadata": {
  "kernelspec": {
   "display_name": "Python 3",
   "language": "python",
   "name": "python3"
  },
  "language_info": {
   "codemirror_mode": {
    "name": "ipython",
    "version": 3
   },
   "file_extension": ".py",
   "mimetype": "text/x-python",
   "name": "python",
   "nbconvert_exporter": "python",
   "pygments_lexer": "ipython3",
   "version": "3.5.2"
  }
 },
 "nbformat": 4,
 "nbformat_minor": 2
}
